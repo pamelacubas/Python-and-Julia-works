{
 "cells": [
  {
   "cell_type": "markdown",
   "id": "7e829e69",
   "metadata": {
    "papermill": {
     "duration": 0.018579,
     "end_time": "2021-02-21T17:17:47.809138",
     "exception": false,
     "start_time": "2021-02-21T17:17:47.790559",
     "status": "completed"
    },
    "tags": []
   },
   "source": [
    "# An inferential problem: The Gender Wage Gap"
   ]
  },
  {
   "cell_type": "markdown",
   "id": "341c3651",
   "metadata": {
    "papermill": {
     "duration": 0.018169,
     "end_time": "2021-02-21T17:17:47.921363",
     "exception": false,
     "start_time": "2021-02-21T17:17:47.903194",
     "status": "completed"
    },
    "tags": []
   },
   "source": [
    "## Data analysis"
   ]
  },
  {
   "cell_type": "code",
   "execution_count": null,
   "id": "3a8d67cc",
   "metadata": {
    "hide_input": true,
    "scrolled": true
   },
   "outputs": [],
   "source": [
    "import pandas as pd\n",
    "import numpy as np\n",
    "import pyreadr as rr # package to use data form R format\n",
    "import math"
   ]
  },
  {
   "cell_type": "code",
   "execution_count": null,
   "id": "7405b0bb",
   "metadata": {},
   "outputs": [],
   "source": [
    "#!pip install pyreadr==0.4.2"
   ]
  },
  {
   "cell_type": "code",
   "execution_count": null,
   "id": "ac96f8de",
   "metadata": {
    "scrolled": true
   },
   "outputs": [],
   "source": [
    "#rdata_read = pyreadr.read_r(\"../../data/wage2015_subsample_inference.Rdata\")\n",
    "\n",
    "data  = pd.read_csv(r'C:/Users/pamelacubas/Downloads/wage2015_subsample_inference.csv')\n",
    "\n",
    "# Extracting the data frame from rdata_read\n",
    "#data = rdata_read[ 'data' ]\n",
    "data['occ']=pd.Categorical(data.occ)\n",
    "data['occ2']=pd.Categorical(data.occ2)\n",
    "data['ind']=pd.Categorical(data.ind)\n",
    "data['ind2']=pd.Categorical(data.ind2)\n",
    "\n",
    "data"
   ]
  },
  {
   "cell_type": "code",
   "execution_count": null,
   "id": "4f6df84a",
   "metadata": {
    "scrolled": true
   },
   "outputs": [],
   "source": [
    "data.shape"
   ]
  },
  {
   "cell_type": "code",
   "execution_count": null,
   "id": "f673c0b4",
   "metadata": {},
   "outputs": [],
   "source": [
    "data.info()"
   ]
  },
  {
   "cell_type": "markdown",
   "id": "aad65b36",
   "metadata": {},
   "source": [
    "***Variable description***\n",
    "\n",
    "- occ : occupational classification\n",
    "- ind : industry classification\n",
    "- lwage : log hourly wage\n",
    "- sex : gender (1 female) (0 male)\n",
    "- shs : some high school\n",
    "- hsg : High school graduated\n",
    "- scl : Some College\n",
    "- clg: College Graduate\n",
    "- ad: Advanced Degree\n",
    "- ne: Northeast\n",
    "- mw: Midwest\n",
    "- so: South\n",
    "- we: West\n",
    "- exp1: experience"
   ]
  },
  {
   "cell_type": "markdown",
   "id": "135af855",
   "metadata": {},
   "source": [
    "In this case, we Focus on the subset of college-advanced-educated workers. he analysis should be analogous to what we’ve presented – explaining basic, control and partialling out model, generating point estimates and standard errors."
   ]
  },
  {
   "cell_type": "code",
   "execution_count": null,
   "id": "f44722ae",
   "metadata": {},
   "outputs": [],
   "source": [
    "data = data[(data.scl == 1) | (data.ad == 1) | (data.clg == 1)]\n",
    "data"
   ]
  },
  {
   "cell_type": "code",
   "execution_count": null,
   "id": "a9e82254",
   "metadata": {},
   "outputs": [],
   "source": [
    "data.shape"
   ]
  },
  {
   "cell_type": "markdown",
   "id": "a9f652de",
   "metadata": {
    "papermill": {
     "duration": 0.020145,
     "end_time": "2021-02-21T17:17:48.235598",
     "exception": false,
     "start_time": "2021-02-21T17:17:48.215453",
     "status": "completed"
    },
    "tags": []
   },
   "source": [
    "To start our (causal) analysis, we compare the sample means given gender:"
   ]
  },
  {
   "cell_type": "code",
   "execution_count": null,
   "id": "63bfa857",
   "metadata": {
    "scrolled": true
   },
   "outputs": [],
   "source": [
    "Z = data[ [\"lwage\",\"sex\",\"shs\",\"hsg\",\"scl\",\"clg\",\"ad\",\"ne\",\"mw\",\"so\",\"we\",\"exp1\"] ]\n",
    "\n",
    "data_female = data[data[ 'sex' ] == 1 ]\n",
    "Z_female = data_female[ [\"lwage\",\"sex\",\"shs\",\"hsg\",\"scl\",\"clg\",\"ad\",\"ne\",\"mw\",\"so\",\"we\",\"exp1\"] ]\n",
    "\n",
    "data_male = data[ data[ 'sex' ] == 0 ]\n",
    "Z_male = data_male[ [ \"lwage\",\"sex\",\"shs\",\"hsg\",\"scl\",\"clg\",\"ad\",\"ne\",\"mw\",\"so\",\"we\",\"exp1\" ] ]\n",
    "\n",
    "\n",
    "table = np.zeros( (12, 3) )\n",
    "table[:, 0] = Z.mean().values\n",
    "table[:, 1] = Z_male.mean().values\n",
    "table[:, 2] = Z_female.mean().values\n",
    "table_pandas = pd.DataFrame( table, columns = [ 'All', 'Men', 'Women']) # from table to dataframe\n",
    "table_pandas.index = [\"Log Wage\",\"Sex\",\"Some High School\",\"High School Graduate\",\"Some College\",\"Gollage Graduate\",\"Advanced Degree\", \"Northeast\",\"Midwest\",\"South\",\"West\",\"Experience\"]\n",
    "table_html = table_pandas.to_html() # html format\n",
    "\n",
    "table_pandas"
   ]
  },
  {
   "cell_type": "code",
   "execution_count": null,
   "id": "97c7dbe8",
   "metadata": {},
   "outputs": [],
   "source": [
    "print( table_html )"
   ]
  },
  {
   "cell_type": "markdown",
   "id": "870b70b3",
   "metadata": {
    "papermill": {
     "duration": 0.020634,
     "end_time": "2021-02-21T17:17:48.532828",
     "exception": false,
     "start_time": "2021-02-21T17:17:48.512194",
     "status": "completed"
    },
    "tags": []
   },
   "source": [
    "In particular, the table above shows that the difference in average logwage between men and women is equal to  0,075"
   ]
  },
  {
   "cell_type": "code",
   "execution_count": null,
   "id": "0808bf26",
   "metadata": {
    "scrolled": true
   },
   "outputs": [],
   "source": [
    "data_female['lwage'].mean()- data_male['lwage'].mean()"
   ]
  },
  {
   "cell_type": "markdown",
   "id": "32b7c945",
   "metadata": {
    "papermill": {
     "duration": 0.022161,
     "end_time": "2021-02-21T17:17:48.635417",
     "exception": false,
     "start_time": "2021-02-21T17:17:48.613256",
     "status": "completed"
    },
    "tags": []
   },
   "source": [
    "Thus, the unconditional gender wage gap is about 7.5% for the group of never married workers (women get paid less on average in our sample). We also observe that never married working women are relatively more educated than working men and have lower working experience."
   ]
  },
  {
   "cell_type": "code",
   "execution_count": null,
   "id": "04f59847",
   "metadata": {},
   "outputs": [],
   "source": [
    "rdata_read = rr.read_r(r\"../../../data/wage2015_subsample_inference.Rdata\")\n",
    "\n",
    "xx\n",
    "# Extracting the data frame from rdata_read\n",
    "data = rdata_read[ 'data' ]\n",
    "\n",
    "\n",
    "data.shape"
   ]
  },
  {
   "cell_type": "markdown",
   "id": "051d9804",
   "metadata": {
    "papermill": {
     "duration": 0.02073,
     "end_time": "2021-02-21T17:17:48.677447",
     "exception": false,
     "start_time": "2021-02-21T17:17:48.656717",
     "status": "completed"
    },
    "tags": []
   },
   "source": [
    "This unconditional (predictive) effect of gender equals the coefficient $\\beta$ in the univariate ols regression of $Y$ on $D$:\n",
    "\n",
    "\\begin{align}\n",
    "\\log(Y) &=\\beta D + \\epsilon.\n",
    "\\end{align}"
   ]
  },
  {
   "cell_type": "markdown",
   "id": "50ecda80",
   "metadata": {
    "papermill": {
     "duration": 0.020929,
     "end_time": "2021-02-21T17:17:48.718630",
     "exception": false,
     "start_time": "2021-02-21T17:17:48.697701",
     "status": "completed"
    },
    "tags": []
   },
   "source": [
    "We verify this by running an ols regression in R."
   ]
  },
  {
   "cell_type": "code",
   "execution_count": null,
   "id": "42f05970",
   "metadata": {},
   "outputs": [],
   "source": [
    "pip install statsmodels"
   ]
  },
  {
   "cell_type": "code",
   "execution_count": null,
   "id": "9d94a1e5",
   "metadata": {
    "hide_input": true
   },
   "outputs": [],
   "source": [
    "import statsmodels.api as sm\n",
    "import statsmodels.formula.api as smf"
   ]
  },
  {
   "cell_type": "code",
   "execution_count": null,
   "id": "c1828275",
   "metadata": {
    "scrolled": true
   },
   "outputs": [],
   "source": [
    "nocontrol_model = smf.ols( formula = 'lwage ~ sex', data = data )\n",
    "nocontrol_est = nocontrol_model.fit().summary2().tables[1]['Coef.']['sex']\n",
    "nocontrol_est\n",
    "nocontrol_se2 = nocontrol_model.fit().summary2().tables[1]['Std.Err.']['sex']\n",
    "\n",
    "\n",
    "# robust standar erros\n",
    "HCV_coefs = nocontrol_model.fit().cov_HC0\n",
    "nocontrol_se = np.power( HCV_coefs.diagonal() , 0.5)[1]\n",
    "nocontrol_se\n",
    "\n",
    "# print unconditional effect of gender and the corresponding standard error\n",
    "\n",
    "print( f'The estimated gender coefficient is {nocontrol_est} and the corresponding standard error is {nocontrol_se2}' )\n",
    "print( f'The estimated gender coefficient is {nocontrol_est} and the corresponding robust standard error is {nocontrol_se}','\\n' )\n",
    "\n",
    "\n",
    "# confidence interval\n",
    "nocontrol_model.fit().conf_int( alpha=0.05 ).loc[['sex']]\n"
   ]
  },
  {
   "cell_type": "markdown",
   "id": "2080d8e8",
   "metadata": {
    "papermill": {
     "duration": 0.02196,
     "end_time": "2021-02-21T17:17:48.991015",
     "exception": false,
     "start_time": "2021-02-21T17:17:48.969055",
     "status": "completed"
    },
    "tags": []
   },
   "source": [
    "Note that the standard error is computed with the *R* package *sandwich* to be robust to heteroskedasticity. \n"
   ]
  },
  {
   "cell_type": "markdown",
   "id": "3e9839a3",
   "metadata": {
    "papermill": {
     "duration": 0.021605,
     "end_time": "2021-02-21T17:17:49.034485",
     "exception": false,
     "start_time": "2021-02-21T17:17:49.012880",
     "status": "completed"
    },
    "tags": []
   },
   "source": [
    "Next, we run an ols regression of $Y$ on $(D,W)$ to control for the effect of covariates summarized in $W$:\n",
    "\n",
    "\\begin{align}\n",
    "\\log(Y) &=\\beta_1 D  + \\beta_2' W + \\epsilon.\n",
    "\\end{align}\n",
    "\n",
    "Here, we are considering the flexible model from the previous lab. Hence, $W$ controls for experience, education, region, and occupation and industry indicators plus transformations and two-way interactions."
   ]
  },
  {
   "cell_type": "markdown",
   "id": "d891c5e1",
   "metadata": {
    "papermill": {
     "duration": 0.021109,
     "end_time": "2021-02-21T17:17:49.076809",
     "exception": false,
     "start_time": "2021-02-21T17:17:49.055700",
     "status": "completed"
    },
    "tags": []
   },
   "source": [
    "Let us run the ols regression with controls."
   ]
  },
  {
   "cell_type": "markdown",
   "id": "f6a90cf0",
   "metadata": {},
   "source": [
    "## Ols regression with controls"
   ]
  },
  {
   "cell_type": "code",
   "execution_count": null,
   "id": "c840bc6c",
   "metadata": {},
   "outputs": [],
   "source": [
    "flex = 'lwage ~ sex + (exp1+exp2+exp3+exp4)*(shs+hsg+scl+clg+occ2+ind2+mw+so+we)'\n",
    "\n",
    "# The smf api replicates R script when it transform data\n",
    "control_model = smf.ols( formula = flex, data = data )\n",
    "control_est = control_model.fit().summary2().tables[1]['Coef.']['sex']\n",
    "\n",
    "print(control_model.fit().summary2().tables[1])\n",
    "\n",
    "HCV_coefs = control_model.fit().cov_HC0\n",
    "control_se = np.power( HCV_coefs.diagonal() , 0.5)[42]  # error standard for sex's coefficients \n",
    "\n",
    "control_se\n",
    "\n",
    "print( f\"Coefficient for OLS with controls {control_est} and the corresponding robust standard error is {control_se}\" )\n",
    "\n",
    "# confidence interval\n",
    "control_model.fit().conf_int( alpha=0.05 ).loc[['sex']]\n"
   ]
  },
  {
   "cell_type": "code",
   "execution_count": null,
   "id": "d1611bab",
   "metadata": {
    "scrolled": true
   },
   "outputs": [],
   "source": [
    "control_model "
   ]
  },
  {
   "cell_type": "markdown",
   "id": "dffdb6b7",
   "metadata": {
    "papermill": {
     "duration": 0.040523,
     "end_time": "2021-02-21T17:17:49.873210",
     "exception": false,
     "start_time": "2021-02-21T17:17:49.832687",
     "status": "completed"
    },
    "tags": []
   },
   "source": [
    "The estimated regression coefficient  𝛽1≈−0.0676 measures how our linear prediction of wage changes if we set the gender variable  𝐷 from 0 to 1, holding the controls  𝑊 fixed. We can call this the predictive effect (PE), as it measures the impact of a variable on the prediction we make. Overall, we see that the unconditional wage gap of size  8 % for women decreases to about  7\n",
    " % after controlling for worker characteristics.\n"
   ]
  },
  {
   "cell_type": "markdown",
   "id": "5881563e",
   "metadata": {
    "papermill": {
     "duration": 0.023222,
     "end_time": "2021-02-21T17:17:49.931749",
     "exception": false,
     "start_time": "2021-02-21T17:17:49.908527",
     "status": "completed"
    },
    "tags": []
   },
   "source": [
    "Next, we are using the Frisch-Waugh-Lovell theorem from the lecture partialling-out the linear effect of the controls via ols."
   ]
  },
  {
   "cell_type": "markdown",
   "id": "6e9ed949",
   "metadata": {},
   "source": [
    "## Partialling-Out using ols"
   ]
  },
  {
   "cell_type": "code",
   "execution_count": null,
   "id": "5691be6d",
   "metadata": {},
   "outputs": [],
   "source": [
    "# models\n",
    "# model for Y\n",
    "flex_y = 'lwage ~  (exp1+exp2+exp3+exp4)*(shs+hsg+scl+clg+occ2+ind2+mw+so+we)'\n",
    "# model for D\n",
    "flex_d = 'sex ~ (exp1+exp2+exp3+exp4)*(shs+hsg+scl+clg+occ2+ind2+mw+so+we)' \n",
    "\n",
    "# partialling-out the linear effect of W from Y\n",
    "t_Y = smf.ols( formula = flex_y , data = data ).fit().resid\n",
    "\n",
    "# partialling-out the linear effect of W from D\n",
    "t_D = smf.ols( formula = flex_d , data = data ).fit().resid\n",
    "\n",
    "\n",
    "data_res = pd.DataFrame( np.vstack(( t_Y.values , t_D.values )).T , columns = [ 't_Y', 't_D' ] )\n",
    "\n",
    "\n",
    "# regression of Y on D after partialling-out the effect of W\n",
    "partial_fit =  smf.ols( formula = 't_Y ~ t_D' , data = data_res ).fit()\n",
    "partial_est = partial_fit.summary2().tables[1]['Coef.']['t_D']\n",
    "\n",
    "\n",
    "# standard error\n",
    "HCV_coefs = partial_fit.cov_HC0\n",
    "partial_se = np.power( HCV_coefs.diagonal() , 0.5)[1]\n",
    "\n",
    "print( f\"Coefficient for D via partialling-out {partial_est} and the corresponding robust standard error is {partial_se}\" )\n",
    "\n",
    "# confidence interval\n",
    "partial_fit.conf_int( alpha=0.05 ).loc[['t_D']]\n"
   ]
  },
  {
   "cell_type": "code",
   "execution_count": null,
   "id": "f1296ac7",
   "metadata": {},
   "outputs": [],
   "source": [
    "#np.vstack(( t_Y.values , t_D.values )).T\n",
    "\n",
    "data_res = pd.DataFrame( np.vstack(( t_Y.values , t_D.values )).T , columns = [ 't_Y', 't_D' ] )\n",
    "data_res"
   ]
  },
  {
   "cell_type": "markdown",
   "id": "2bce3c43",
   "metadata": {
    "papermill": {
     "duration": 0.023907,
     "end_time": "2021-02-21T17:17:50.458203",
     "exception": false,
     "start_time": "2021-02-21T17:17:50.434296",
     "status": "completed"
    },
    "tags": []
   },
   "source": [
    "Again, the estimated coefficient measures the linear predictive effect (PE) of $D$ on $Y$ after taking out the linear effect of $W$ on both of these variables. This coefficient equals the estimated coefficient from the ols regression with controls."
   ]
  },
  {
   "cell_type": "markdown",
   "id": "b868fcc5",
   "metadata": {
    "papermill": {
     "duration": 0.024507,
     "end_time": "2021-02-21T17:17:50.507023",
     "exception": false,
     "start_time": "2021-02-21T17:17:50.482516",
     "status": "completed"
    },
    "tags": []
   },
   "source": [
    "We know that the partialling-out approach works well when the dimension of $W$ is low\n",
    "in relation to the sample size $n$. When the dimension of $W$ is relatively high, we need to use variable selection\n",
    "or penalization for regularization purposes. \n"
   ]
  },
  {
   "cell_type": "markdown",
   "id": "6bd04e37",
   "metadata": {},
   "source": [
    "Use appropiate plots (i.e hist, barplots, scatter plots , pie plots, etc) to describe main varaibles (wage, log-wage, sex, some college, college graduate, avdanced degree, Experience)"
   ]
  },
  {
   "cell_type": "code",
   "execution_count": null,
   "id": "c8a92c6f",
   "metadata": {},
   "outputs": [],
   "source": [
    "import numpy as np\n",
    "import pandas as pd\n",
    "from pandas import Series, DataFrame\n",
    "import matplotlib.pyplot as plt\n",
    "import seaborn as sns\n",
    "import datetime as dt"
   ]
  },
  {
   "cell_type": "code",
   "execution_count": null,
   "id": "0effeead",
   "metadata": {},
   "outputs": [],
   "source": [
    "fig, ax = plt.subplots(figsize=(10,6))\n",
    "\n",
    "box = sns.boxplot(x=\"sex\", y=\"lwage\", data=data ,palette='pastel')\n",
    "plt.xlabel('Sexo')\n",
    "plt.ylabel('Logaritmo del salario por hora')\n",
    "\n",
    "# The real wage quartiles are increasing with the educational level.\n",
    "# Lower salary dispersion for the postgraduate level. pastel"
   ]
  },
  {
   "cell_type": "markdown",
   "id": "b88ddb89",
   "metadata": {},
   "source": [
    "The average logarithm of salary is higher for men than for women"
   ]
  },
  {
   "cell_type": "code",
   "execution_count": null,
   "id": "b81d1392",
   "metadata": {
    "scrolled": false
   },
   "outputs": [],
   "source": [
    "data['wage'].plot(kind = 'hist', bins = 50, figsize = (8,6))\n",
    "plt.title('Salario por hora')\n",
    "\n",
    "txt=\"Elaboración propia\"  \n",
    "plt.figtext(0.5, 0.01, txt, wrap=True, horizontalalignment='center', fontsize=12)\n",
    "plt.xlim(0, 150)\n",
    "plt.show()"
   ]
  },
  {
   "cell_type": "markdown",
   "id": "2bd5371b",
   "metadata": {},
   "source": [
    "The most common hourly wage is 20 and there is a distribution with a left tail. The highest salary is 130."
   ]
  },
  {
   "cell_type": "markdown",
   "id": "be3ce1e4",
   "metadata": {},
   "source": [
    "For the women, "
   ]
  },
  {
   "cell_type": "code",
   "execution_count": null,
   "id": "3580dce1",
   "metadata": {
    "scrolled": false
   },
   "outputs": [],
   "source": [
    "sns.regplot(data=data, x=\"exp1\", y=\"lwage\", x_bins=np.arange(0, 40, 5), order=1)"
   ]
  },
  {
   "cell_type": "markdown",
   "id": "c22780e9",
   "metadata": {
    "scrolled": true
   },
   "source": [
    "The more years of experience, the people get a higher salary."
   ]
  },
  {
   "cell_type": "code",
   "execution_count": null,
   "id": "69b9f64c",
   "metadata": {
    "scrolled": true
   },
   "outputs": [],
   "source": [
    "sns.set_style(\"white\")\n",
    "gridobj = sns.lmplot(x=\"exp1\", y=\"lwage\", \n",
    "                     data=data, \n",
    "                     height=7, \n",
    "                     robust=True, \n",
    "                     palette='Set1', \n",
    "                     col=\"sex\",\n",
    "                     scatter_kws=dict(s=60, linewidths=0.7, edgecolors='black'))\n",
    "\n",
    "gridobj.set(xlim=(0, 80), ylim=(0, 10))\n",
    "plt.show()"
   ]
  },
  {
   "cell_type": "markdown",
   "id": "22b28e5d",
   "metadata": {},
   "source": [
    "At first glance, it is seen that experience has a positive impact on salary. But, in women this effect is smaller than in men due to persistent gender gaps in the labor market."
   ]
  },
  {
   "cell_type": "markdown",
   "id": "8ee29fa1",
   "metadata": {},
   "source": [
    "Plot the confidence Interval of sex's coefficient for a different models (basic, control, and partially out). All three coefficients must be in one figure. Explain what you find."
   ]
  },
  {
   "cell_type": "code",
   "execution_count": null,
   "id": "e5c9ce22",
   "metadata": {},
   "outputs": [],
   "source": [
    "coef_df = pd.DataFrame({\n",
    "    'coef': [nocontrol_est, control_est, partial_est],\n",
    "    'err': [nocontrol_se2, control_se, partial_se],\n",
    "    'varname': ['No control', 'Con controles', 'Parcialmente fuera']\n",
    "})\n",
    "\n",
    "# Reorganizar las columnas\n",
    "coef_df = coef_df[['coef', 'err', 'varname']]\n",
    "\n",
    "# Mostrar el dataframe\n",
    "print(coef_df)\n",
    "\n",
    "fig, ax = plt.subplots(figsize=(8, 3))\n",
    "coef_df.plot(x='varname', y='coef', kind='bar', \n",
    "             ax=ax, color='none', \n",
    "             yerr='err', legend=False)\n",
    "ax.set_ylabel('')\n",
    "ax.set_xlabel('')\n",
    "ax.scatter(x=pd.np.arange(coef_df.shape[0]), \n",
    "           marker='s', s=120, \n",
    "           y=coef_df['coef'], color='black')\n",
    "ax.axhline(y=0, linestyle='--', color='black', linewidth=4)\n",
    "ax.xaxis.set_ticks_position('none')\n",
    "_ = ax.set_xticklabels(['No control', 'Con controles', 'Parcialmente fuera'], \n",
    "                       rotation=0, fontsize=16)\n"
   ]
  },
  {
   "cell_type": "markdown",
   "id": "2ec33db4",
   "metadata": {},
   "source": [
    "The coefficients are larger for the With Controls and Partially Out models, when the sample is restricted to people with advanced education. Likewise, the error is minimized when we use the last two models, so the confidence interval is smaller."
   ]
  },
  {
   "cell_type": "markdown",
   "id": "db29b141",
   "metadata": {},
   "source": [
    "You will also include a replication of the next figure for both groups, female and male.You will have only two plotted lines (Actual/Predicted(fitted)) for these College-educated workers. You have to create two separate figures, one for female and one for male. Could you explain the different patterns that you find?"
   ]
  },
  {
   "cell_type": "markdown",
   "id": "3299db66",
   "metadata": {},
   "source": [
    "The patterns found are that wages are higher for people who attend college than for those who attend only high school. Then, the relationship between years of experience and salary is only positive, both for university and high school, until before reaching 35 years of experience."
   ]
  },
  {
   "cell_type": "code",
   "execution_count": null,
   "id": "4830714c",
   "metadata": {},
   "outputs": [],
   "source": [
    "\n",
    "data_hsg = data[data['hsg'] == 1]\n",
    "data_clg = data[data['clg'] == 1]\n",
    "data_scl = data[data['scl'] == 1]\n",
    "\n",
    "data_clgm = data_clg[data_clg['sex'] == 0]  # Hombres\n",
    "data_clgf = data_clg[data_clg['sex'] == 1]  # Mujeres\n",
    "\n",
    "\n",
    "\n",
    "import pandas as pd\n",
    "\n",
    "# Table_hsg\n",
    "Tabla_hsg = data_hsg.groupby('exp2').agg(Promlwageo=('lwage', 'mean')).reset_index()\n",
    "\n",
    "nivel_hsg = sorted(data_hsg['exp2'].unique())\n",
    "\n",
    "Promedio = []\n",
    "for nivel in nivel_hsg:\n",
    "    Promedio.append(data_hsg[data_hsg['exp2'] <= nivel]['lwage'].mean())\n",
    "\n",
    "Tabla_hsg['PromMov'] = Promedio\n",
    "print(Tabla_hsg.head())\n",
    "\n",
    "# Table_clg\n",
    "Tabla_clg = data_clg.groupby('exp2').agg(Promlwageo=('lwage', 'mean')).reset_index()\n",
    "\n",
    "Tabla_clgm = data_clg.groupby('exp2').agg(Promlwageo=('lwage', 'mean')).reset_index()\n",
    "Tabla_clgf = data_clg.groupby('exp2').agg(Promlwageo=('lwage', 'mean')).reset_index()\n",
    "\n",
    "nivel_clg = sorted(data_clg['exp2'].unique())\n",
    "nivel_clgm = sorted(data_clgm['exp2'].unique())\n",
    "nivel_clgf = sorted(data_clgf['exp2'].unique())\n",
    "\n",
    "Promedio = []\n",
    "for nivel in nivel_clg:\n",
    "    Promedio.append(data_clg[data_clg['exp2'] <= nivel]['lwage'].mean())\n",
    "\n",
    "Tabla_clg['PromMov'] = Promedio\n",
    "Tabla_clgm['PromMov'] = Promedio\n",
    "Tabla_clgf['PromMov'] = Promedio\n",
    "print(Tabla_clg.head())\n",
    "\n",
    "import statsmodels.api as sm\n",
    "import pandas as pd\n",
    "\n",
    "formula = 'lwage ~ sex + (exp1+exp2+exp3+exp4)*(shs+hsg+scl+clg+occ2+ind2+mw+so+we)'\n",
    "\n",
    "control_fit1 = sm.formula.ols(formula, data=data).fit()\n",
    "\n",
    "predict = control_fit1.predict(data)\n",
    "\n",
    "data['Predict'] = predict\n",
    "\n",
    "\n",
    "data_sclP = data[data['scl'] == 1]\n",
    "data_clgP = data[data['clg'] == 1]\n",
    "data_hsgP = data[data['hsg'] == 1]\n",
    "\n",
    "data_clgPm = data_clgP[data_clgP['sex'] == 0]  # Hombres\n",
    "data_clgPf = data_clgP[data_clgP['sex'] == 1]  # Mujeres\n",
    "\n",
    "import pandas as pd\n",
    "###########################################################\n",
    "\n",
    "Tabla_hsgP = data_hsgP.groupby('exp2')['Predict'].mean().reset_index()\n",
    "\n",
    "nivel_hsgP = sorted(data_hsgP['exp2'].unique())\n",
    "\n",
    "Promedio = []\n",
    "for nivel in nivel_hsgP:\n",
    "    Promedio.append(data_hsgP[data_hsgP['exp2'] <= nivel]['Predict'].mean())\n",
    "\n",
    "Tabla_hsgP['PromMovP'] = Promedio\n",
    "print(Tabla_hsgP.head())\n",
    "\n",
    "Tabla_clgP = data_clgP.groupby('exp2')['Predict'].mean().reset_index()\n",
    "Tabla_clgPf = data_clgPf.groupby('exp2')['Predict'].mean().reset_index()\n",
    "Tabla_clgPm = data_clgPm.groupby('exp2')['Predict'].mean().reset_index()\n",
    "\n",
    "nivel_clgP = sorted(data_clgP['exp2'].unique())\n",
    "\n",
    "Promedio = []\n",
    "for nivel in nivel_clgP:\n",
    "    Promedio.append(data_clgP[data_clgP['exp2'] <= nivel]['Predict'].mean())\n",
    "\n",
    "Tabla_clgP['PromMov'] = Promedio\n",
    "Tabla_clgPf['PromMov'] = Promedio\n",
    "\n",
    "Promediof = Promedio[:-1]\n",
    "Tabla_clgPm['PromMov'] = Promediof\n",
    "print(Tabla_clgP.head())\n",
    "\n",
    "import matplotlib.pyplot as plt\n",
    "\n",
    "x = Tabla_clg['exp2']\n",
    "x_3 = Tabla_clgPm['exp2']\n",
    "y = Tabla_clg['PromMov']\n",
    "y_3 = Tabla_clgPm['PromMov']\n",
    "\n",
    "# Create the graphic\n",
    "plt.plot(x, y, color='navy', linestyle='-', label=\"Actual CLG\")\n",
    "\n",
    "plt.plot(x_3, y_3, color='darkred', linestyle='--')\n",
    "\n",
    "plt.ylim(3, 3.2)\n",
    "plt.xlim(0, 15)\n",
    "plt.xlabel(\"Years of Potential Experience\")\n",
    "plt.ylabel(\"Log Wage (or Wage Gap)\")\n",
    "plt.title(\"Figure 10: Comparison between actual and fitted for CLG and HSG Male\")\n",
    "plt.grid(linestyle='--', color='gray')\n",
    "\n",
    "plt.xticks(range(0, 16, 5))\n",
    "\n",
    "plt.legend(loc=\"upper right\", fontsize=8)\n",
    "\n",
    "plt.show()\n",
    "\n",
    "x = Tabla_clg['exp2']\n",
    "x_3 = Tabla_clgPf['exp2']\n",
    "y = Tabla_clg['PromMov']\n",
    "y_3 = Tabla_clgPf['PromMov']\n",
    "\n",
    "# Create the graphic\n",
    "plt.plot(x, y, color='navy', linestyle='-', label=\"Actual CLG\")\n",
    "\n",
    "plt.plot(x_3, y_3, color='darkred', linestyle='--')\n",
    "\n",
    "plt.ylim(3, 3.2)\n",
    "plt.xlim(0, 15)\n",
    "plt.xlabel(\"Years of Potential Experience\")\n",
    "plt.ylabel(\"Log Wage (or Wage Gap)\")\n",
    "plt.title(\"Figure 10: Comparison between actual and fitted for CLG and HSG Female\")\n",
    "plt.grid(linestyle='--', color='gray')\n",
    "\n",
    "plt.xticks(range(0, 16, 5))\n",
    "\n",
    "plt.legend(loc=\"upper right\", fontsize=8)\n",
    "\n",
    "plt.show()"
   ]
  },
  {
   "cell_type": "markdown",
   "id": "8298fb90",
   "metadata": {},
   "source": [
    "The patterns found are that wages are higher for people who attend college than for those who attend only high school. Then, the relationship between years of experience and salary is only positive, both for university and high school, until before reaching 35 years of experience. Then, if we differentiate between sex the difference is very small."
   ]
  }
 ],
 "metadata": {
  "language_info": {
   "name": "python"
  }
 },
 "nbformat": 4,
 "nbformat_minor": 5
}
