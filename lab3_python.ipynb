{
 "cells": [
  {
   "cell_type": "markdown",
   "id": "7708ce90",
   "metadata": {},
   "source": [
    "# Simulation Design"
   ]
  },
  {
   "cell_type": "code",
   "execution_count": 1,
   "id": "f712b79c",
   "metadata": {},
   "outputs": [
    {
     "name": "stdout",
     "output_type": "stream",
     "text": [
      "Requirement already satisfied: multiprocess in c:\\users\\victor\\anaconda3\\lib\\site-packages (0.70.16)\n",
      "Requirement already satisfied: dill>=0.3.8 in c:\\users\\victor\\anaconda3\\lib\\site-packages (from multiprocess) (0.3.8)\n",
      "Requirement already satisfied: pyreadr in c:\\users\\victor\\anaconda3\\lib\\site-packages (0.5.0)\n",
      "Requirement already satisfied: pandas>=1.2.0 in c:\\users\\victor\\anaconda3\\lib\\site-packages (from pyreadr) (2.1.4)\n",
      "Requirement already satisfied: numpy<2,>=1.23.2 in c:\\users\\victor\\anaconda3\\lib\\site-packages (from pandas>=1.2.0->pyreadr) (1.26.4)\n",
      "Requirement already satisfied: python-dateutil>=2.8.2 in c:\\users\\victor\\anaconda3\\lib\\site-packages (from pandas>=1.2.0->pyreadr) (2.8.2)\n",
      "Requirement already satisfied: pytz>=2020.1 in c:\\users\\victor\\anaconda3\\lib\\site-packages (from pandas>=1.2.0->pyreadr) (2023.3.post1)\n",
      "Requirement already satisfied: tzdata>=2022.1 in c:\\users\\victor\\anaconda3\\lib\\site-packages (from pandas>=1.2.0->pyreadr) (2023.3)\n",
      "Requirement already satisfied: six>=1.5 in c:\\users\\victor\\anaconda3\\lib\\site-packages (from python-dateutil>=2.8.2->pandas>=1.2.0->pyreadr) (1.16.0)\n"
     ]
    },
    {
     "name": "stderr",
     "output_type": "stream",
     "text": [
      "fatal: destination path 'hdmpy' already exists and is not an empty directory.\n"
     ]
    }
   ],
   "source": [
    "!pip install multiprocess\n",
    "!pip install pyreadr\n",
    "!git clone https://github.com/maxhuppertz/hdmpy.git"
   ]
  },
  {
   "cell_type": "code",
   "execution_count": 2,
   "id": "0d9ae868",
   "metadata": {},
   "outputs": [],
   "source": [
    "import sys\n",
    "sys.path.insert(1, \"./hdmpy\")\n",
    "import hdmpy as hdm"
   ]
  },
  {
   "cell_type": "code",
   "execution_count": 3,
   "id": "0541f8fa",
   "metadata": {},
   "outputs": [],
   "source": [
    "import numpy as np\n",
    "import random\n",
    "import statsmodels.api as sm\n",
    "import matplotlib.pyplot as plt\n",
    "import numpy as np\n",
    "from matplotlib import colors"
   ]
  },
  {
   "cell_type": "markdown",
   "id": "feb92992",
   "metadata": {},
   "source": [
    "# Simulation Design 1"
   ]
  },
  {
   "cell_type": "code",
   "execution_count": 4,
   "id": "ec982168",
   "metadata": {},
   "outputs": [],
   "source": [
    "# Set seed\n",
    "np.random.seed(0)\n",
    "B1 = 100\n",
    "Naive = np.zeros( B1 )\n",
    "Orthogonal = np.zeros( B1 )"
   ]
  },
  {
   "cell_type": "code",
   "execution_count": 7,
   "id": "3d1d657b",
   "metadata": {
    "scrolled": true
   },
   "outputs": [],
   "source": [
    "for i in range( 0, B1 ):\n",
    "    n = 1000\n",
    "    p = 100\n",
    "    beta = ( 1 / (np.arange( 1, p + 1 ) ** 2 ) ).reshape( p , 1 )\n",
    "    gamma = ( 1 / (np.arange( 1, p + 1 ) ** 2 ) ).reshape( p , 1 )\n",
    "\n",
    "    mean = 0\n",
    "    sd = 1\n",
    "    X = np.random.normal( mean , sd, n * p ).reshape( n, p )\n",
    "\n",
    "    D = ( X @ gamma ) + np.random.normal( mean , sd, n ).reshape( n, 1 )/4 # We reshape because in r when we sum a vecto with a matrix it sum by column\n",
    "    \n",
    "    # DGP \n",
    "    Y = 10*D + ( X @ beta ) + np.random.normal( mean , sd, n ).reshape( n, 1 )\n",
    "\n",
    "    # single selection method\n",
    "    r_lasso_estimation = hdm.rlasso( np.concatenate( ( D , X ) , axis  =  1 ) , Y , post = True ) # Regress main equation by lasso\n",
    "\n",
    "    coef_array = r_lasso_estimation.est[ 'coefficients' ].iloc[ 2:, :].to_numpy()    # Get \"X\" coefficients \n",
    "\n",
    "    SX_IDs = np.where( coef_array != 0 )[0]\n",
    "\n",
    "    # In case all X coefficients are zero, then regress Y on D\n",
    "    if sum(SX_IDs) == 0 : \n",
    "        Naive[ i ] = sm.OLS( Y , sm.add_constant(D) ).fit().summary2().tables[1].round(3).iloc[ 1, 0 ] \n",
    "\n",
    "    # Otherwise, then regress Y on X and D (but only in the selected coefficients)\n",
    "    elif sum( SX_IDs ) > 0 :\n",
    "        X_D = np.concatenate( ( D, X[:, SX_IDs ] ) , axis = 1 )\n",
    "        Naive[ i ] = sm.OLS( Y , sm.add_constant( X_D ) ).fit().summary2().tables[1].round(3).iloc[ 1, 0]\n",
    "\n",
    "    # In both cases we save D coefficient\n",
    "        \n",
    "    # Regress residuals. \n",
    "    resY = hdm.rlasso( X , Y , post = False ).est[ 'residuals' ]\n",
    "    resD = hdm.rlasso( X , D , post = False ).est[ 'residuals' ]\n",
    "    Orthogonal[ i ] = sm.OLS( resY , sm.add_constant( resD ) ).fit().summary2().tables[1].round(3).iloc[ 1, 0]"
   ]
  },
  {
   "cell_type": "code",
   "execution_count": 8,
   "id": "ba56372b",
   "metadata": {},
   "outputs": [],
   "source": [
    "Orto_breaks = [-1.2, -1, -0.8, -0.6, -0.4, -0.2, 0, 0.2, 0.4, 0.6, 0.8, 1, 1.2, 1.4, 1.6, 1.8, 2]\n",
    "Naive_breaks = [-0.6, -0.4, -0.2, 0, 0.2, 0.4, 0.6, 0.8, 1, 1.2]"
   ]
  },
  {
   "cell_type": "code",
   "execution_count": 10,
   "id": "b0c8bafb",
   "metadata": {},
   "outputs": [
    {
     "data": {
      "text/plain": [
       "Text(0.5, 0, 'Naive')"
      ]
     },
     "execution_count": 10,
     "metadata": {},
     "output_type": "execute_result"
    },
    {
     "data": {
      "image/png": "[encoded data removed]",
      "text/plain": [
       "<Figure size 640x480 with 2 Axes>"
      ]
     },
     "metadata": {},
     "output_type": "display_data"
    }
   ],
   "source": [
    "fig, axs = plt.subplots(1, 2, sharex= True, tight_layout=True)\n",
    "\n",
    "# We can set the number of bins with the `bins` kwarg\n",
    "axs[0].hist( Orthogonal - 10 , range = (-2, 2), density = True , bins = Orto_breaks, color ='blue')\n",
    "axs[1].hist( Naive - 10, range = (-2, 2), density = True , bins = Naive_breaks, color = 'red' )\n",
    "\n",
    "axs[0].title.set_text('Orthogonal, 100 trials')\n",
    "axs[1].title.set_text('Naive 100 trials', )\n",
    "\n",
    "axs[0].set_xlabel( 'Orhtogonal' )\n",
    "axs[1].set_xlabel( 'Naive' )\n"
   ]
  },
  {
   "cell_type": "markdown",
   "id": "82542edd",
   "metadata": {},
   "source": [
    "# Simulation Design 2"
   ]
  },
  {
   "cell_type": "code",
   "execution_count": 11,
   "id": "006084c7",
   "metadata": {},
   "outputs": [],
   "source": [
    "# Set seed\n",
    "np.random.seed(0)\n",
    "B2=1000\n",
    "Naive = np.zeros( B2 )\n",
    "Orthogonal = np.zeros( B2 )"
   ]
  },
  {
   "cell_type": "code",
   "execution_count": 13,
   "id": "1459fedb",
   "metadata": {},
   "outputs": [],
   "source": [
    "for i in range( 0, B2 ):\n",
    "    n = 1000\n",
    "    p = 100\n",
    "    beta = ( 1 / (np.arange( 1, p + 1 ) ** 2 ) ).reshape( p , 1 )\n",
    "    gamma = ( 1 / (np.arange( 1, p + 1 ) ** 2 ) ).reshape( p , 1 )\n",
    "\n",
    "    mean = 0\n",
    "    sd = 1\n",
    "    X = np.random.normal( mean , sd, n * p ).reshape( n, p )\n",
    "\n",
    "    D = ( X @ gamma ) + np.random.normal( mean , sd, n ).reshape( n, 1 )/4 # We reshape because in r when we sum a vecto with a matrix it sum by column\n",
    "    Y = 10*D + ( X @ beta ) + np.random.normal( mean , sd, n ).reshape( n, 1 )\n",
    "\n",
    "    # single selectin method\n",
    "    r_lasso_estimation = hdm.rlasso( np.concatenate( ( D , X ) , axis  =  1 ) , Y , post = True )\n",
    "\n",
    "    coef_array = r_lasso_estimation.est[ 'coefficients' ].iloc[ 2:, :].to_numpy()\n",
    "\n",
    "    SX_IDs = np.where( coef_array != 0 )[0]\n",
    "\n",
    "    if sum(SX_IDs) == 0 : \n",
    "        Naive[ 0 ] = sm.OLS( Y , sm.add_constant(D) ).fit().summary2().tables[1].round(3).iloc[ 1, 0 ]\n",
    "\n",
    "    elif sum( SX_IDs ) > 0 :\n",
    "        X_D = np.concatenate( ( D, X[:, SX_IDs ] ) , axis = 1 )\n",
    "        Naive[ i ] = sm.OLS( Y , sm.add_constant( X_D ) ).fit().summary2().tables[1].round(3).iloc[ 1, 0]\n",
    "\n",
    "\n",
    "    resY = hdm.rlasso( X , Y , post = True ).est[ 'residuals' ]\n",
    "    resD = hdm.rlasso( X , D , post = True ).est[ 'residuals' ]\n",
    "    Orthogonal[ i ] = sm.OLS( resY , sm.add_constant( resD ) ).fit().summary2().tables[1].round(3).iloc[ 1, 0]"
   ]
  },
  {
   "cell_type": "code",
   "execution_count": 14,
   "id": "26ba86d4",
   "metadata": {},
   "outputs": [
    {
     "data": {
      "text/plain": [
       "Text(0.5, 0, 'Naive')"
      ]
     },
     "execution_count": 14,
     "metadata": {},
     "output_type": "execute_result"
    },
    {
     "data": {
      "image/png": "[encoded data removed]",
      "text/plain": [
       "<Figure size 640x480 with 2 Axes>"
      ]
     },
     "metadata": {},
     "output_type": "display_data"
    }
   ],
   "source": [
    "fig, axs = plt.subplots(1, 2, sharex= True, tight_layout=True)\n",
    "\n",
    "# We can set the number of bins with the `bins` kwarg\n",
    "axs[0].hist( Orthogonal - 10 , range = (-2, 2), density = True , bins = Orto_breaks, color ='blue')\n",
    "axs[1].hist( Naive - 10, range = (-2, 2), density = True , bins = Naive_breaks,  color ='red' )\n",
    "\n",
    "axs[0].title.set_text('Orthogonal 1000 trials')\n",
    "axs[1].title.set_text('Naive 1000 trials')\n",
    "\n",
    "axs[0].set_xlabel( 'Orhtogonal' )\n",
    "axs[1].set_xlabel( 'Naive' )\n"
   ]
  },
  {
   "cell_type": "markdown",
   "id": "a2a33a27",
   "metadata": {},
   "source": [
    "# Simulation Design 3"
   ]
  },
  {
   "cell_type": "code",
   "execution_count": 16,
   "id": "c9e78411",
   "metadata": {},
   "outputs": [],
   "source": [
    "# Set seed\n",
    "np.random.seed(0)\n",
    "B3=10000\n",
    "Naive = np.zeros( B3 )\n",
    "Orthogonal = np.zeros( B3 )"
   ]
  },
  {
   "cell_type": "code",
   "execution_count": 17,
   "id": "7b0ec835",
   "metadata": {},
   "outputs": [],
   "source": [
    "for i in range( 0, B3 ):\n",
    "    n = 1000\n",
    "    p = 100\n",
    "    beta = ( 1 / (np.arange( 1, p + 1 ) ** 2 ) ).reshape( p , 1 )\n",
    "    gamma = ( 1 / (np.arange( 1, p + 1 ) ** 2 ) ).reshape( p , 1 )\n",
    "\n",
    "    mean = 0\n",
    "    sd = 1\n",
    "    X = np.random.normal( mean , sd, n * p ).reshape( n, p )\n",
    "\n",
    "    D = ( X @ gamma ) + np.random.normal( mean , sd, n ).reshape( n, 1 )/4 # We reshape because in r when we sum a vecto with a matrix it sum by column\n",
    "    Y = 10*D + ( X @ beta ) + np.random.normal( mean , sd, n ).reshape( n, 1 )\n",
    "\n",
    "    # single selectin method\n",
    "    r_lasso_estimation = hdm.rlasso( np.concatenate( ( D , X ) , axis  =  1 ) , Y , post = True )\n",
    "\n",
    "    coef_array = r_lasso_estimation.est[ 'coefficients' ].iloc[ 2:, :].to_numpy()\n",
    "\n",
    "    SX_IDs = np.where( coef_array != 0 )[0]\n",
    "\n",
    "    if sum(SX_IDs) == 0 : \n",
    "        Naive[ 0 ] = sm.OLS( Y , sm.add_constant(D) ).fit().summary2().tables[1].round(3).iloc[ 1, 0 ]\n",
    "\n",
    "    elif sum( SX_IDs ) > 0 :\n",
    "        X_D = np.concatenate( ( D, X[:, SX_IDs ] ) , axis = 1 )\n",
    "        Naive[ i ] = sm.OLS( Y , sm.add_constant( X_D ) ).fit().summary2().tables[1].round(3).iloc[ 1, 0]\n",
    "\n",
    "\n",
    "    resY = hdm.rlasso( X , Y , post = True ).est[ 'residuals' ]\n",
    "    resD = hdm.rlasso( X , D , post = True ).est[ 'residuals' ]\n",
    "    Orthogonal[ i ] = sm.OLS( resY , sm.add_constant( resD ) ).fit().summary2().tables[1].round(3).iloc[ 1, 0]"
   ]
  },
  {
   "cell_type": "code",
   "execution_count": 18,
   "id": "70d48c1e",
   "metadata": {},
   "outputs": [
    {
     "data": {
      "text/plain": [
       "Text(0.5, 0, 'Naive')"
      ]
     },
     "execution_count": 18,
     "metadata": {},
     "output_type": "execute_result"
    },
    {
     "data": {
      "image/png": "[encoded data removed]",
      "text/plain": [
       "<Figure size 640x480 with 2 Axes>"
      ]
     },
     "metadata": {},
     "output_type": "display_data"
    }
   ],
   "source": [
    "fig, axs = plt.subplots(1, 2, sharex= True, tight_layout=True)\n",
    "\n",
    "# We can set the number of bins with the `bins` kwarg\n",
    "axs[0].hist( Orthogonal - 10 , range = (-2, 2), density = True , bins = Orto_breaks, color ='blue' )\n",
    "axs[1].hist( Naive - 10, range = (-2, 2), density = True , bins = Naive_breaks, color = 'red' )\n",
    "\n",
    "axs[0].title.set_text('Orthogonal 10000 trials')\n",
    "axs[1].title.set_text('Naive 10000 trias')\n",
    "\n",
    "axs[0].set_xlabel( 'Orhtogonal' )\n",
    "axs[1].set_xlabel( 'Naive' )\n"
   ]
  },
  {
   "cell_type": "markdown",
   "id": "65c138be",
   "metadata": {},
   "source": [
    "# Interpretation"
   ]
  },
  {
   "cell_type": "markdown",
   "id": "cf223b13",
   "metadata": {},
   "source": [
    "The distribution of the histograms is different because they are grouped at various points. When B, what is the number of trials, is higher, the distribution is bigger. Also, the orthogonal should be centered in zero and the Naive should be centered in numbers higher than zero. The last one is biased to the right."
   ]
  },
  {
   "cell_type": "markdown",
   "id": "9248613c",
   "metadata": {},
   "source": [
    "The econometric explanation is based on the approach to data modeling. For the orthogonal distribution, it is assumed that the features (variables) are orthogonal to each other, meaning that they are not correlated. When the errors are orthogonal to each other, it means that they are not correlated and that there is no systematic bias in the relationship between the dependent variable and the dependent variables. This is desirable because it implies that the regression model effectively captures the relationship between variables without additional bias. Zero-centering of the distribution can arise due to the way the model is specified, such as including an intercept or by standardizing variables. On the other hand, for the Naïve distribution, the bias to the right may arise from the nature of the data and the way the conditional probabilities of the variables are modeled. This could be related to the distribution of errors in a regression model. If errors have an asymmetric distribution, such as a right-weighted (positively biased) tail distribution, this can affect how relationships between variables are modeled.\n"
   ]
  },
  {
   "cell_type": "markdown",
   "id": "cc4978bb",
   "metadata": {},
   "source": [
    "# Parallel computing"
   ]
  },
  {
   "cell_type": "markdown",
   "id": "d9d5b664",
   "metadata": {},
   "source": [
    "Using parallel computing, the running time is lower. The multiprocessing module allows you to create multiple child processes, each of which can execute code independently. These processes can take advantage of the multiple CPU cores available on your machine, resulting in workload distribution and, in many cases, a significant reduction in execution time..\n",
    "For example (B=100) "
   ]
  },
  {
   "cell_type": "markdown",
   "id": "3e206555",
   "metadata": {},
   "source": [
    "Without using parallel computing, for the simulation design 1, the running time is 5 minutes"
   ]
  },
  {
   "cell_type": "code",
   "execution_count": 4,
   "id": "8a4c1d33",
   "metadata": {},
   "outputs": [],
   "source": [
    "import multiprocessing\n",
    "import time"
   ]
  },
  {
   "cell_type": "code",
   "execution_count": 2,
   "id": "c3297eed",
   "metadata": {},
   "outputs": [
    {
     "name": "stdout",
     "output_type": "stream",
     "text": [
      "8\n"
     ]
    }
   ],
   "source": [
    "from multiprocessing import cpu_count\n",
    "print(cpu_count())"
   ]
  },
  {
   "cell_type": "code",
   "execution_count": 19,
   "id": "b29888ad",
   "metadata": {},
   "outputs": [
    {
     "name": "stdout",
     "output_type": "stream",
     "text": [
      "With Parallel computing, the running time is  4.026202299981378 minutes\n"
     ]
    }
   ],
   "source": [
    "def sleep(sleep_sec=0.5):\n",
    "    print(f'Sleeping for {sleep_sec} seconds')\n",
    "    time.sleep(sleep_sec)\n",
    "    print('Finished sleeping')\n",
    "\n",
    "if __name__ == \"__main__\":\n",
    "    start_time = time.perf_counter()\n",
    "    processes = []\n",
    "\n",
    "    # Creates 100 processes then starts them\n",
    "    for i in range(100):\n",
    "        p = multiprocessing.Process(target=sleep, args=(1.0,))\n",
    "        p.start()\n",
    "        processes.append(p)\n",
    "\n",
    "    # Joins all the processes\n",
    "    for p in processes:\n",
    "        p.join()\n",
    "\n",
    "    finish_time = time.perf_counter()\n",
    "    tiempo=finish_time-start_time\n",
    "\n",
    "    print(\"With Parallel computing, the running time is \", tiempo, \"minutes\")"
   ]
  }
 ],
 "metadata": {
  "kernelspec": {
   "display_name": "Python 3 (ipykernel)",
   "language": "python",
   "name": "python3"
  },
  "language_info": {
   "codemirror_mode": {
    "name": "ipython",
    "version": 3
   },
   "file_extension": ".py",
   "mimetype": "text/x-python",
   "name": "python",
   "nbconvert_exporter": "python",
   "pygments_lexer": "ipython3",
   "version": "3.11.7"
  }
 },
 "nbformat": 4,
 "nbformat_minor": 5
}
